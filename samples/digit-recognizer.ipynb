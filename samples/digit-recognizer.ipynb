{
 "cells": [
  {
   "cell_type": "markdown",
   "metadata": {
    "_cell_guid": "00b63778-674d-0a2d-e5b0-8956c5ce1770",
    "_uuid": "a6d9e2f17da3e58a695f87588530ba169076ec1c"
   },
   "source": [
    "## Introduction\n",
    "### Let me start by saying, this is not the best way to classify digits! This notebook is rather meant to be for someone who might not know where to start. As an ml beginner myself, I find it helpful to play with these sorts of commented kernels. Any suggestions for improvement or comments on poor coding practices are appreciated!"
   ]
  },
  {
   "cell_type": "code",
   "execution_count": 7,
   "metadata": {
    "_cell_guid": "d0abbfc5-e04e-98d3-8c5c-37d114daa804",
    "_execution_state": "idle",
    "_uuid": "86458e7e40b9a04a60ae2dd051ecc0ceb96adcff"
   },
   "outputs": [],
   "source": [
    "import pandas as pd\n",
    "import matplotlib.pyplot as plt, matplotlib.image as mpimg\n",
    "from sklearn.model_selection import train_test_split\n",
    "from sklearn import svm\n",
    "%matplotlib inline"
   ]
  },
  {
   "cell_type": "code",
   "execution_count": 8,
   "metadata": {
    "_cell_guid": "e8c0e206-f504-253f-8ac6-2c50eff06b58",
    "_execution_state": "idle",
    "_uuid": "a078b92598637c5529cd1c888e79943286de70f1"
   },
   "outputs": [],
   "source": [
    "labeled_images = pd.read_csv('../input/digit-recognizer-train.csv')\n",
    "images = labeled_images.iloc[0:5000,1:]\n",
    "labels = labeled_images.iloc[0:5000,:1]\n",
    "train_images, test_images,train_labels, test_labels = train_test_split(images, labels, train_size=0.8, random_state=0)"
   ]
  },
  {
   "cell_type": "markdown",
   "metadata": {
    "_cell_guid": "11f567ca-77d0-2c41-bbc9-a60396caacea",
    "_uuid": "bb2e38f3c9cf98398c456a2368a082f067a2fcb1"
   },
   "source": [
    "## Loading the data\n",
    "### - We use panda's [read_csv][1]  to read train.csv into a [dataframe][2].\n",
    "### - Then we separate our images and labels for supervised learning. \n",
    "### - We also do a [train_test_split][3] to break our data into two sets, one for training and one for testing. This let's us measure how well our model was trained by later inputting some known test data.\n",
    "\n",
    "### For the sake of time, we're only using 5000 images. You should increase or decrease this number to see how it affects model training.\n",
    "\n",
    "\n",
    "###  [1]: http://pandas.pydata.org/pandas-docs/stable/generated/pandas.read_csv.html\n",
    "###  [2]: http://pandas.pydata.org/pandas-docs/stable/generated/pandas.DataFrame.html#pandas.DataFrame\n",
    "###  [3]: http://scikit-learn.org/stable/modules/generated/sklearn.model_selection.train_test_split.html"
   ]
  },
  {
   "cell_type": "markdown",
   "metadata": {
    "_cell_guid": "caa9e676-3656-5509-0aa4-a503437f727f",
    "_uuid": "94da3a2852e40f0faa0e4c509d170aa4563deb65"
   },
   "source": [
    "## Viewing an Image\n",
    "- Since the image is currently one-dimension, we load it into a [numpy array][1] and [reshape][2] it so that it is two-dimensional (28x28 pixels)\n",
    "- Then, we plot the image and label with matplotlib\n",
    "\n",
    "### You can change the value of variable <i>i</i> to check out other images and labels.\n",
    "\n",
    "\n",
    "  [1]: https://docs.scipy.org/doc/numpy/reference/generated/numpy.array.html\n",
    "  [2]: https://docs.scipy.org/doc/numpy/reference/generated/numpy.reshape.html"
   ]
  },
  {
   "cell_type": "code",
   "execution_count": 19,
   "metadata": {
    "_cell_guid": "dc43b65b-d3d9-8208-e7a2-88c2535b506f",
    "_execution_state": "idle",
    "_uuid": "13042cfa98838004d6feaa541c1526bd32182b70"
   },
   "outputs": [
    {
     "data": {
      "text/plain": [
       "<matplotlib.text.Text at 0x7ffa62c2e630>"
      ]
     },
     "execution_count": 19,
     "metadata": {},
     "output_type": "execute_result"
    },
    {
     "data": {
      "image/png": "[encoded data removed]",
      "text/plain": [
       "<matplotlib.figure.Figure at 0x7ffa63038080>"
      ]
     },
     "metadata": {},
     "output_type": "display_data"
    }
   ],
   "source": [
    "i=2\n",
    "img=train_images.iloc[i].as_matrix()\n",
    "img=img.reshape((28,28))\n",
    "plt.imshow(img,cmap='gray')\n",
    "plt.title(train_labels.iloc[i,0])"
   ]
  },
  {
   "cell_type": "markdown",
   "metadata": {
    "_cell_guid": "42a5a5bd-83be-7116-7cd5-20cbc8336417",
    "_uuid": "6f401c9f2bb08fa9d569a86f508e4d01c079f597"
   },
   "source": [
    "## Examining the Pixel Values\n",
    "### Note that these images aren't actually black and white (0,1). They are gray-scale (0-255). \n",
    "- A [histogram][1] of this image's pixel values shows the range.\n",
    "\n",
    "\n",
    "  [1]: http://matplotlib.org/api/pyplot_api.html#matplotlib.pyplot.hist"
   ]
  },
  {
   "cell_type": "code",
   "execution_count": 20,
   "metadata": {
    "_cell_guid": "b6143ae2-eb4e-a4af-aad3-37fa85b657b7",
    "_execution_state": "idle",
    "_uuid": "3bfb2473aec2e7271c7023d9a5c793f86c8e8781",
    "scrolled": true
   },
   "outputs": [
    {
     "data": {
      "text/plain": [
       "(array([ 650.,    0.,    0.,    0.,    0.,    0.,    0.,    0.,    0.,  134.]),\n",
       " array([ 0. ,  0.1,  0.2,  0.3,  0.4,  0.5,  0.6,  0.7,  0.8,  0.9,  1. ]),\n",
       " <a list of 10 Patch objects>)"
      ]
     },
     "execution_count": 20,
     "metadata": {},
     "output_type": "execute_result"
    },
    {
     "data": {
      "image/png": "[encoded data removed]",
      "text/plain": [
       "<matplotlib.figure.Figure at 0x7ffa63043588>"
      ]
     },
     "metadata": {},
     "output_type": "display_data"
    }
   ],
   "source": [
    "plt.hist(train_images.iloc[i])"
   ]
  },
  {
   "cell_type": "markdown",
   "metadata": {
    "_cell_guid": "b7f8578b-9985-4ccc-eab5-82465d7cad8b",
    "_uuid": "4f6d86cee4f0e16859e3f59aa89e8a7d12ec955b"
   },
   "source": [
    "## Training our model\n",
    "- First, we use the [sklearn.svm][1] module to create a [vector classifier][2]. \n",
    "- Next, we pass our training images and labels to the classifier's [fit][3] method, which trains our model. \n",
    "- Finally, the test images and labels are passed to the [score][4] method to see how well we trained our model. Fit will return a float between 0-1 indicating our accuracy on the test data set\n",
    "\n",
    "### Try playing with the parameters of svm.SVC to see how the results change. \n",
    "\n",
    "\n",
    "  [1]: http://scikit-learn.org/stable/modules/svm.html\n",
    "  [2]: http://scikit-learn.org/stable/modules/generated/sklearn.svm.SVC.html\n",
    "  [3]: http://scikit-learn.org/stable/modules/generated/sklearn.svm.SVC.html#sklearn.svm.SVC.fit\n",
    "  [4]: http://scikit-learn.org/stable/modules/generated/sklearn.svm.SVC.html#sklearn.svm.SVC.score\n",
    "  [5]: http://scikit-learn.org/stable/modules/generated/sklearn.svm.SVC.html#sklearn.svm.SVC.score"
   ]
  },
  {
   "cell_type": "code",
   "execution_count": 11,
   "metadata": {
    "_cell_guid": "e35c02d7-4510-3202-a7b4-fb3accde0c5a",
    "_execution_state": "idle",
    "_uuid": "8033fcc644c08d3521b54c2bdfd10c2282124ea5"
   },
   "outputs": [
    {
     "data": {
      "text/plain": [
       "0.10000000000000001"
      ]
     },
     "execution_count": 11,
     "metadata": {},
     "output_type": "execute_result"
    }
   ],
   "source": [
    "clf = svm.SVC()\n",
    "clf.fit(train_images, train_labels.values.ravel())\n",
    "clf.score(test_images,test_labels)"
   ]
  },
  {
   "cell_type": "markdown",
   "metadata": {
    "_cell_guid": "61729c3a-fc18-d204-1e72-a453af1ff0a3",
    "_uuid": "e20e1936a8fd094943671bd14af86edd29568871"
   },
   "source": [
    "## How did our model do?\n",
    "### You should have gotten around 0.10, or 10% accuracy. This is terrible. 10% accuracy is what get if you randomly guess a number. There are many ways to improve this, including not using a vector classifier, but here's a simple one to start. Let's just simplify our images by making them true black and white.\n",
    "\n",
    "- To make this easy, any pixel with a value simply becomes 1 and everything else remains 0.\n",
    "- We'll plot the same image again to see how it looks now that it's black and white. Look at the histogram now."
   ]
  },
  {
   "cell_type": "code",
   "execution_count": 12,
   "metadata": {
    "_cell_guid": "b5f3a212-b832-55af-d228-9b1931dcbc32",
    "_execution_state": "idle",
    "_uuid": "92144bcb060be24945af88caa687cf151859b58c"
   },
   "outputs": [
    {
     "name": "stderr",
     "output_type": "stream",
     "text": [
      "/usr/local/python-3.5.2/lib/python3.5/site-packages/ipykernel_launcher.py:1: SettingWithCopyWarning: \n",
      "A value is trying to be set on a copy of a slice from a DataFrame.\n",
      "Try using .loc[row_indexer,col_indexer] = value instead\n",
      "\n",
      "See the caveats in the documentation: http://pandas.pydata.org/pandas-docs/stable/indexing.html#indexing-view-versus-copy\n",
      "  \"\"\"Entry point for launching an IPython kernel.\n",
      "/usr/local/python-3.5.2/lib/python3.5/site-packages/pandas-0.20.2-py3.5-linux-x86_64.egg/pandas/core/frame.py:2366: SettingWithCopyWarning: \n",
      "A value is trying to be set on a copy of a slice from a DataFrame\n",
      "\n",
      "See the caveats in the documentation: http://pandas.pydata.org/pandas-docs/stable/indexing.html#indexing-view-versus-copy\n",
      "  self._where(-key, value, inplace=True)\n",
      "/usr/local/python-3.5.2/lib/python3.5/site-packages/ipykernel_launcher.py:2: SettingWithCopyWarning: \n",
      "A value is trying to be set on a copy of a slice from a DataFrame.\n",
      "Try using .loc[row_indexer,col_indexer] = value instead\n",
      "\n",
      "See the caveats in the documentation: http://pandas.pydata.org/pandas-docs/stable/indexing.html#indexing-view-versus-copy\n",
      "  \n"
     ]
    },
    {
     "data": {
      "text/plain": [
       "<matplotlib.text.Text at 0x7ffa62f11550>"
      ]
     },
     "execution_count": 12,
     "metadata": {},
     "output_type": "execute_result"
    },
    {
     "data": {
      "image/png": "[encoded data removed]",
      "text/plain": [
       "<matplotlib.figure.Figure at 0x7ffa63050780>"
      ]
     },
     "metadata": {},
     "output_type": "display_data"
    }
   ],
   "source": [
    "test_images[test_images>0]=1\n",
    "train_images[train_images>0]=1\n",
    "\n",
    "img=train_images.iloc[i].as_matrix().reshape((28,28))\n",
    "plt.imshow(img,cmap='binary')\n",
    "plt.title(train_labels.iloc[i])"
   ]
  },
  {
   "cell_type": "code",
   "execution_count": 13,
   "metadata": {
    "_cell_guid": "edbe1d68-3224-1bf4-b571-a3bd845c3de5",
    "_execution_state": "idle",
    "_uuid": "71c48f416f095d21723984a84431fa79e45c87b0"
   },
   "outputs": [
    {
     "data": {
      "text/plain": [
       "(array([ 668.,    0.,    0.,    0.,    0.,    0.,    0.,    0.,    0.,  116.]),\n",
       " array([ 0. ,  0.1,  0.2,  0.3,  0.4,  0.5,  0.6,  0.7,  0.8,  0.9,  1. ]),\n",
       " <a list of 10 Patch objects>)"
      ]
     },
     "execution_count": 13,
     "metadata": {},
     "output_type": "execute_result"
    },
    {
     "data": {
      "image/png": "[encoded data removed]",
      "text/plain": [
       "<matplotlib.figure.Figure at 0x7ffa63038470>"
      ]
     },
     "metadata": {},
     "output_type": "display_data"
    }
   ],
   "source": [
    "plt.hist(train_images.iloc[i])"
   ]
  },
  {
   "cell_type": "markdown",
   "metadata": {
    "_cell_guid": "785c75aa-06f7-fce3-b690-038356d4a51c",
    "_uuid": "dd1abe9d79b7dc15d18be915dc46870b70017bde"
   },
   "source": [
    "## Retraining our model\n",
    "### We follow the same procedure as before, but now our training and test sets are black and white instead of gray-scale. Our score still isn't great, but it's a huge improvement."
   ]
  },
  {
   "cell_type": "code",
   "execution_count": 14,
   "metadata": {
    "_cell_guid": "6f0355ef-d019-c814-11ff-795f81d041f1",
    "_execution_state": "idle",
    "_uuid": "eb144144f3912d2488eb43b0ee7d34c2d5e4c3e8"
   },
   "outputs": [
    {
     "data": {
      "text/plain": [
       "0.88700000000000001"
      ]
     },
     "execution_count": 14,
     "metadata": {},
     "output_type": "execute_result"
    }
   ],
   "source": [
    "clf = svm.SVC()\n",
    "clf.fit(train_images, train_labels.values.ravel())\n",
    "clf.score(test_images,test_labels)"
   ]
  },
  {
   "cell_type": "markdown",
   "metadata": {
    "_cell_guid": "7ca53ece-d50a-efe5-d242-dea8d089244b",
    "_uuid": "02ed32d4e22b7e1cd4f28b43efd37f40765c59fd"
   },
   "source": [
    "## Labelling the test data\n",
    "### Now for those making competition submissions, we can load and predict the unlabeled data from test.csv. Again, for time we're just using the first 5000 images. We then output this data to a results.csv for competition submission."
   ]
  },
  {
   "cell_type": "code",
   "execution_count": 15,
   "metadata": {
    "_cell_guid": "8fa0b0aa-1bf3-dcd3-6ef2-fae5ccda55b3",
    "_execution_state": "busy",
    "_uuid": "ea69ee05d3251d8f88015669e5659d62752adaa1"
   },
   "outputs": [],
   "source": [
    "test_data=pd.read_csv('../input/digit-recognizer-test.csv')\n",
    "test_data[test_data>0]=1\n",
    "results=clf.predict(test_data[0:5000])"
   ]
  },
  {
   "cell_type": "code",
   "execution_count": 16,
   "metadata": {
    "_cell_guid": "aa6f3fd3-8ff6-80b4-68ae-261172ebe580",
    "_execution_state": "idle",
    "_uuid": "8151739df7659f386c043b6e935c7a8fddd664ee"
   },
   "outputs": [
    {
     "data": {
      "text/plain": [
       "array([2, 0, 9, ..., 1, 7, 3])"
      ]
     },
     "execution_count": 16,
     "metadata": {},
     "output_type": "execute_result"
    }
   ],
   "source": [
    "results"
   ]
  },
  {
   "cell_type": "code",
   "execution_count": 18,
   "metadata": {
    "_cell_guid": "28ec8d56-d3f6-573d-2230-bc5a410868c6",
    "_execution_state": "idle",
    "_uuid": "dc7c11f03a55889328acf5411d3b2414b31da87b",
    "collapsed": true
   },
   "outputs": [],
   "source": [
    "df = pd.DataFrame(results)\n",
    "df.index.name='ImageId'\n",
    "df.index+=1\n",
    "df.columns=['Label']\n",
    "df.to_csv('../input/digit-recognizer-results.csv', header=True)"
   ]
  },
  {
   "cell_type": "code",
   "execution_count": null,
   "metadata": {
    "_cell_guid": "097e0f0a-246c-2f96-cd2d-b5cd75f26a65",
    "_execution_state": "idle",
    "_uuid": "8d0cfd547181ec40d86161132759367ee1b2a676",
    "collapsed": true
   },
   "outputs": [],
   "source": []
  }
 ],
 "metadata": {
  "_change_revision": 0,
  "_is_fork": false,
  "kernelspec": {
   "display_name": "Python 3",
   "language": "python",
   "name": "python3"
  },
  "language_info": {
   "codemirror_mode": {
    "name": "ipython",
    "version": 3
   },
   "file_extension": ".py",
   "mimetype": "text/x-python",
   "name": "python",
   "nbconvert_exporter": "python",
   "pygments_lexer": "ipython3",
   "version": "3.5.2"
  }
 },
 "nbformat": 4,
 "nbformat_minor": 1
}
